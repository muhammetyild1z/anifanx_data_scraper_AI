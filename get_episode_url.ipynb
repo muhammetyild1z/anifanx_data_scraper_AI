{
 "cells": [
  {
   "cell_type": "code",
   "execution_count": 91,
   "id": "a69edd21-43c6-4688-b187-46bb4cbc5250",
   "metadata": {},
   "outputs": [],
   "source": [
    "import time\n",
    "from selenium import webdriver\n",
    "from selenium.webdriver.common.keys import Keys\n",
    "from bs4 import BeautifulSoup\n",
    "import requests\n",
    "import pyautogui\n",
    "import pyperclip\n",
    "\n",
    "\n",
    "from selenium.webdriver.support.ui import WebDriverWait\n",
    "from selenium.webdriver.common.by import By\n",
    "from selenium.webdriver.support import expected_conditions as EC\n",
    "\n"
   ]
  },
  {
   "cell_type": "code",
   "execution_count": 92,
   "id": "d7146e55-3e88-4e29-8a81-2ce0b7ec3ca2",
   "metadata": {},
   "outputs": [],
   "source": [
    "# animenin bolumlerin url kismini alan alan \n",
    "# not: sezon kismi statik durumda suan da\n",
    "url = \"https://animeizlesene.com/serie/re-zero-kara-hajimeru-isekai-seikatsu-942-1-season-1-episode\"\n",
    "driver = webdriver.Chrome()  \n",
    "driver.get(url)\n",
    "time.sleep(1)\n",
    "anime_name=soup.select_one('body > div.container > div > div.app-wrapper > div.app-container.flex-fill > div > div > div.detail-content > div.detail-text.flex-fill > div.caption > div.caption-content > a > h1').text.replace(\":\",\"\").replace(\"\\n\",\"\").replace(\" \",\"_\")\n",
    "page_source = driver.page_source\n",
    "soup = BeautifulSoup(page_source, 'html.parser')\n",
    "\n",
    "# Find the element containing the episode links\n",
    "div_element = soup.find(id=\"season-1\")\n",
    "anchor_elements = div_element.find_all(\"a\")\n",
    "\n",
    "# Open the file in append mode\n",
    "with open(f\"{anime_name}url.txt\", \"w\", encoding=\"utf-8\") as file:\n",
    "    # Iterate over each episode link\n",
    "    for anchor_element in anchor_elements:\n",
    "        href_value = anchor_element.get(\"href\")\n",
    "        if href_value:\n",
    "            file.write(href_value + \"\\n\")  # Write each href value to the file\n",
    "\n",
    "driver.quit()"
   ]
  },
  {
   "cell_type": "code",
   "execution_count": null,
   "id": "df1cf21d-d7bf-459c-b340-5026b99360fe",
   "metadata": {},
   "outputs": [],
   "source": []
  },
  {
   "cell_type": "code",
   "execution_count": null,
   "id": "504686f3-bf2e-4a20-9cd6-99874dd1c57b",
   "metadata": {},
   "outputs": [],
   "source": [
    "\n"
   ]
  },
  {
   "cell_type": "code",
   "execution_count": null,
   "id": "58b7bd50-5765-4845-a115-ad1e1e761798",
   "metadata": {},
   "outputs": [],
   "source": [
    "\n"
   ]
  },
  {
   "cell_type": "code",
   "execution_count": null,
   "id": "25a0488b-d1aa-411d-b76e-597b87931b68",
   "metadata": {},
   "outputs": [],
   "source": []
  },
  {
   "cell_type": "code",
   "execution_count": null,
   "id": "bf1f873d-769a-4c44-957b-8d5c7f67fb02",
   "metadata": {},
   "outputs": [],
   "source": []
  },
  {
   "cell_type": "code",
   "execution_count": null,
   "id": "039a8c68-584c-4e13-b080-aa811b71c28c",
   "metadata": {},
   "outputs": [],
   "source": []
  },
  {
   "cell_type": "code",
   "execution_count": null,
   "id": "215a2c08-7cf6-4d0a-a32c-0a728d756af0",
   "metadata": {},
   "outputs": [],
   "source": []
  }
 ],
 "metadata": {
  "kernelspec": {
   "display_name": "Python 3 (ipykernel)",
   "language": "python",
   "name": "python3"
  },
  "language_info": {
   "codemirror_mode": {
    "name": "ipython",
    "version": 3
   },
   "file_extension": ".py",
   "mimetype": "text/x-python",
   "name": "python",
   "nbconvert_exporter": "python",
   "pygments_lexer": "ipython3",
   "version": "3.12.0"
  }
 },
 "nbformat": 4,
 "nbformat_minor": 5
}
