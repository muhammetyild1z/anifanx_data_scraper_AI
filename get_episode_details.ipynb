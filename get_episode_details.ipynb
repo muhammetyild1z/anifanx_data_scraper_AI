{
 "cells": [
  {
   "cell_type": "code",
   "execution_count": 13,
   "id": "a41b33cd-abc8-426c-aaa9-212207b58843",
   "metadata": {},
   "outputs": [],
   "source": [
    "import time\n",
    "from selenium import webdriver\n",
    "from selenium.webdriver.common.keys import Keys\n",
    "from bs4 import BeautifulSoup\n",
    "import requests\n",
    "import pyautogui\n",
    "import pyperclip\n",
    "import re\n",
    "\n",
    "\n",
    "from selenium.webdriver.support.ui import WebDriverWait\n",
    "from selenium.webdriver.common.by import By\n",
    "from selenium.webdriver.support import expected_conditions as EC\n"
   ]
  },
  {
   "cell_type": "code",
   "execution_count": 80,
   "id": "ab7cb46f-2510-482e-8cd6-0aca17db5a04",
   "metadata": {},
   "outputs": [],
   "source": [
    "\n",
    "\n",
    "# WebDriver'ı başlat\n",
    "driver = webdriver.Chrome()\n",
    "driver.get(url)\n",
    "driver.maximize_window()\n",
    "page_source = driver.page_source\n",
    "\n",
    "# BeautifulSoup ile sayfa kaynağını ayrıştır\n",
    "soup = BeautifulSoup(page_source, 'html.parser')\n",
    "\n",
    "# Oynatıcı seçimini metin olarak al\n",
    "playerCheck = soup.select_one('body > div.container > div > div.app-wrapper > div.app-container.flex-fill > div > div > div.detail-header.d-flex.align-items-center > div.nav-player-select.dropdown').text"
   ]
  },
  {
   "cell_type": "code",
   "execution_count": 81,
   "id": "e91a6145-5d9e-4619-9ac1-12cf88b83c74",
   "metadata": {},
   "outputs": [
    {
     "name": "stdout",
     "output_type": "stream",
     "text": [
      "https://video.sibnet.ru/shell.php?videoid=5389838\n"
     ]
    }
   ],
   "source": [
    "#sibnet linki geliyor basarili\n",
    "if \"Sibnet\" in playerCheck:\n",
    "    driver.find_element(By.ID, \"videoSource\").click()\n",
    "    time.sleep(1)\n",
    "    # Tüm düğmeleri bulmak için bekleyin\n",
    "    sibnet_button = WebDriverWait(driver, 1).until(\n",
    "        EC.element_to_be_clickable((By.XPATH, \"//span[text()='Sibnet']\"))\n",
    "    )\n",
    "    sibnet_button.click()\n",
    "    time.sleep(2)\n",
    "    play_button = driver.find_element(By.XPATH, \"//div[@class='play-btn']\").click()\n",
    "    time.sleep(5)\n",
    "    pyautogui.click(x=1022, y=400)\n",
    "    time.sleep(1)  \n",
    "    pyautogui.click(x=1600, y=410 )\n",
    "    time.sleep(1) \n",
    "    pyautogui.click(x=1259, y=700 )\n",
    "    time.sleep(1) \n",
    "    pyautogui.click(x=1259, y=720 )\n",
    "    time.sleep(1)\n",
    "    # Butona basıldığında panoya kopyalanan veriyi al\n",
    "    sibnetUrl = pyperclip.paste()\n",
    "    url_start_index = sibnetUrl.find('https')\n",
    "    url_end_index = sibnetUrl.find('&', url_start_index)\n",
    "    sibnet_save_url = sibnetUrl[url_start_index:url_end_index]\n",
    "    print(sibnet_save_url)\n",
    "    "
   ]
  },
  {
   "cell_type": "code",
   "execution_count": 79,
   "id": "4954b6d1-0be1-46f7-8b3c-c0fc0f353f70",
   "metadata": {},
   "outputs": [
    {
     "name": "stdout",
     "output_type": "stream",
     "text": [
      "//ok.ru/videoembed/7396365961905\n"
     ]
    }
   ],
   "source": [
    "#okru linki geliyor basarili\n",
    "if \"Ok.ru\" in playerCheck:\n",
    "    driver.find_element(By.ID, \"videoSource\").click()\n",
    "    time.sleep(3)\n",
    "    # Tüm düğmeleri bulmak için bekleyin\n",
    "    ok_ru_button = WebDriverWait(driver, 1).until(\n",
    "        EC.element_to_be_clickable((By.XPATH, \"//span[text()='Ok.ru']\"))\n",
    "    )\n",
    "    ok_ru_button.click()\n",
    "    time.sleep(2)  \n",
    "    play_button = driver.find_element(By.XPATH, \"//div[@class='play-btn']\").click()\n",
    "    time.sleep(4)\n",
    "    pyautogui.click(x=1022, y=400)\n",
    "    time.sleep(7)  \n",
    "    pyautogui.click(x=1622, y=412 )\n",
    "    pyautogui.click(x=1622, y=412 )\n",
    "    time.sleep(1)\n",
    "    pyautogui.click( x=1072, y=610 )\n",
    "    time.sleep(1)\n",
    "    pyautogui.click( x=1072, y=775 )\n",
    "     # Butona basıldığında panoya kopyalanan veriyi al\n",
    "    OkRuUrl = pyperclip.paste()\n",
    "    url_start_index = OkRuUrl.find('//ok.ru')\n",
    "    url_end_index = OkRuUrl.find('\"', url_start_index)\n",
    "    OkRu_save_url = OkRuUrl[url_start_index:url_end_index]\n",
    "    print(OkRu_save_url)    \n"
   ]
  },
  {
   "cell_type": "code",
   "execution_count": null,
   "id": "d558d72c-c754-4fed-be73-9a8c4a34f096",
   "metadata": {},
   "outputs": [],
   "source": [
    "if \"VK\" in playerCheck:\n",
    "    print(2)\n",
    "if \"Odnoklassniki\" in playerCheck:\n",
    "    print(3)\n"
   ]
  },
  {
   "cell_type": "code",
   "execution_count": 60,
   "id": "78d2e188-69d6-487f-98cf-73fd72252531",
   "metadata": {},
   "outputs": [
    {
     "ename": "FileNotFoundError",
     "evalue": "[Errno 2] No such file or directory: 'ReZero_kara_Hajimeru_Isekai_Seikatsu_.txt'",
     "output_type": "error",
     "traceback": [
      "\u001b[1;31m---------------------------------------------------------------------------\u001b[0m",
      "\u001b[1;31mFileNotFoundError\u001b[0m                         Traceback (most recent call last)",
      "Cell \u001b[1;32mIn[60], line 1\u001b[0m\n\u001b[1;32m----> 1\u001b[0m \u001b[38;5;28;01mwith\u001b[39;00m \u001b[38;5;28;43mopen\u001b[39;49m\u001b[43m(\u001b[49m\u001b[38;5;124;43m\"\u001b[39;49m\u001b[38;5;124;43mReZero_kara_Hajimeru_Isekai_Seikatsu_.txt\u001b[39;49m\u001b[38;5;124;43m\"\u001b[39;49m\u001b[43m,\u001b[49m\u001b[43m \u001b[49m\u001b[38;5;124;43m\"\u001b[39;49m\u001b[38;5;124;43mr\u001b[39;49m\u001b[38;5;124;43m\"\u001b[39;49m\u001b[43m,\u001b[49m\u001b[43m \u001b[49m\u001b[43mencoding\u001b[49m\u001b[38;5;241;43m=\u001b[39;49m\u001b[38;5;124;43m\"\u001b[39;49m\u001b[38;5;124;43mutf-8\u001b[39;49m\u001b[38;5;124;43m\"\u001b[39;49m\u001b[43m)\u001b[49m \u001b[38;5;28;01mas\u001b[39;00m file:\n\u001b[0;32m      2\u001b[0m     url_list \u001b[38;5;241m=\u001b[39m file\u001b[38;5;241m.\u001b[39mreadlines()\n\u001b[0;32m      4\u001b[0m driver \u001b[38;5;241m=\u001b[39m webdriver\u001b[38;5;241m.\u001b[39mChrome()\n",
      "File \u001b[1;32m~\\AppData\\Local\\Programs\\Python\\Python312\\Lib\\site-packages\\IPython\\core\\interactiveshell.py:324\u001b[0m, in \u001b[0;36m_modified_open\u001b[1;34m(file, *args, **kwargs)\u001b[0m\n\u001b[0;32m    317\u001b[0m \u001b[38;5;28;01mif\u001b[39;00m file \u001b[38;5;129;01min\u001b[39;00m {\u001b[38;5;241m0\u001b[39m, \u001b[38;5;241m1\u001b[39m, \u001b[38;5;241m2\u001b[39m}:\n\u001b[0;32m    318\u001b[0m     \u001b[38;5;28;01mraise\u001b[39;00m \u001b[38;5;167;01mValueError\u001b[39;00m(\n\u001b[0;32m    319\u001b[0m         \u001b[38;5;124mf\u001b[39m\u001b[38;5;124m\"\u001b[39m\u001b[38;5;124mIPython won\u001b[39m\u001b[38;5;124m'\u001b[39m\u001b[38;5;124mt let you open fd=\u001b[39m\u001b[38;5;132;01m{\u001b[39;00mfile\u001b[38;5;132;01m}\u001b[39;00m\u001b[38;5;124m by default \u001b[39m\u001b[38;5;124m\"\u001b[39m\n\u001b[0;32m    320\u001b[0m         \u001b[38;5;124m\"\u001b[39m\u001b[38;5;124mas it is likely to crash IPython. If you know what you are doing, \u001b[39m\u001b[38;5;124m\"\u001b[39m\n\u001b[0;32m    321\u001b[0m         \u001b[38;5;124m\"\u001b[39m\u001b[38;5;124myou can use builtins\u001b[39m\u001b[38;5;124m'\u001b[39m\u001b[38;5;124m open.\u001b[39m\u001b[38;5;124m\"\u001b[39m\n\u001b[0;32m    322\u001b[0m     )\n\u001b[1;32m--> 324\u001b[0m \u001b[38;5;28;01mreturn\u001b[39;00m \u001b[43mio_open\u001b[49m\u001b[43m(\u001b[49m\u001b[43mfile\u001b[49m\u001b[43m,\u001b[49m\u001b[43m \u001b[49m\u001b[38;5;241;43m*\u001b[39;49m\u001b[43margs\u001b[49m\u001b[43m,\u001b[49m\u001b[43m \u001b[49m\u001b[38;5;241;43m*\u001b[39;49m\u001b[38;5;241;43m*\u001b[39;49m\u001b[43mkwargs\u001b[49m\u001b[43m)\u001b[49m\n",
      "\u001b[1;31mFileNotFoundError\u001b[0m: [Errno 2] No such file or directory: 'ReZero_kara_Hajimeru_Isekai_Seikatsu_.txt'"
     ]
    }
   ],
   "source": [
    "with open(\"ReZero_kara_Hajimeru_Isekai_Seikatsu_.txt\", \"r\", encoding=\"utf-8\") as file:\n",
    "    url_list = file.readlines()\n",
    "\n",
    "driver = webdriver.Chrome()\n",
    "\n",
    "for url in url_list:\n",
    "    # URL'yi temizle\n",
    "    url = url.strip()\n",
    "    driver.get(url)\n",
    "    driver.maximize_window()\n",
    "    # 4. 'play-btn' class'ına sahip 'div'e tıkla\n",
    "    play_button = driver.find_element(By.XPATH, \"//div[@class='play-btn']\").click()\n",
    "    time.sleep(8)\n",
    "    pyautogui.click(x=1022, y=400)\n",
    "    time.sleep(1)  \n",
    "    # İkinci tıklama\n",
    "    pyautogui.click(x=1600, y=410 )\n",
    "    time.sleep(1) \n",
    "    pyautogui.click(x=1259, y=700 )\n",
    "    time.sleep(1) \n",
    "    pyautogui.click(x=1259, y=720 )\n",
    "    time.sleep(1)\n",
    "    # Butona basıldığında panoya kopyalanan veriyi al\n",
    "    sibnetUrl = pyperclip.paste()\n",
    "    \n",
    "    # 2. Kaynak kodunu al\n",
    "    time.sleep(1)  # Sayfanın yüklenmesini beklemek için biraz süre veriyoruz\n",
    "    page_source = driver.page_source\n",
    "    soup = BeautifulSoup(page_source, 'html.parser')\n",
    "    #time.sleep(1)\n",
    "    \n",
    "    episode_name=soup.select_one('body > div.container > div > div.app-wrapper > div.app-container.flex-fill > div > div > div.detail-content > div.detail-text.flex-fill > div.caption > div.caption-content > h2').text\n",
    "    anime_name=soup.select_one('body > div.container > div > div.app-wrapper > div.app-container.flex-fill > div > div > div.detail-content > div.detail-text.flex-fill > div.caption > div.caption-content > a > h1').text.replace(\":\",\"\").replace(\"\\n\",\"\").replace(\" \",\"_\")\n",
    "    anime_seasons_episodes = soup.select_one('body > div.container > div > div.app-wrapper > div.app-container.flex-fill > div > div > div.detail-content > div.detail-text.flex-fill > div.caption > div.caption-content').text\n",
    "    anime_seasons_episodes_array=anime_seasons_episodes.split()\n",
    "    sezon=anime_seasons_episodes_array[0].replace(\".\",\"\")\n",
    "    episode=anime_seasons_episodes_array[2].replace(\".\",\"\")\n",
    "\n",
    "    # Veriyi bir metin dosyasına yaz\n",
    "    with open(f\"{anime_name}details.txt\", \"a\", encoding=\"utf-8\") as file:\n",
    "        file.write(anime_name+\"\\t\"+episode_name+\"\\t\"+sezon+\"\\t\"+episode+\"\\t\"+url+\"\\n\")\n",
    "    \n",
    "    print(\"Veriler başarıyla kopyalandı.\")\n",
    "      \n",
    "# Tarayıcıyı kapat\n",
    "driver.quit()"
   ]
  },
  {
   "cell_type": "code",
   "execution_count": null,
   "id": "e60c7da8-24e2-45df-8774-adecfb3b5e95",
   "metadata": {},
   "outputs": [],
   "source": []
  },
  {
   "cell_type": "code",
   "execution_count": null,
   "id": "82204c46-94ed-479f-ba35-f7edb6ee9c3a",
   "metadata": {},
   "outputs": [],
   "source": []
  },
  {
   "cell_type": "code",
   "execution_count": null,
   "id": "a9066e45-41df-430a-a08e-163e76ab4983",
   "metadata": {},
   "outputs": [],
   "source": []
  }
 ],
 "metadata": {
  "kernelspec": {
   "display_name": "Python 3 (ipykernel)",
   "language": "python",
   "name": "python3"
  },
  "language_info": {
   "codemirror_mode": {
    "name": "ipython",
    "version": 3
   },
   "file_extension": ".py",
   "mimetype": "text/x-python",
   "name": "python",
   "nbconvert_exporter": "python",
   "pygments_lexer": "ipython3",
   "version": "3.12.0"
  }
 },
 "nbformat": 4,
 "nbformat_minor": 5
}
