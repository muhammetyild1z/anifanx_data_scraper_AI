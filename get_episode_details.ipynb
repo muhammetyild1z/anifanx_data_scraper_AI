{
 "cells": [
  {
   "cell_type": "code",
   "execution_count": 1,
   "id": "a41b33cd-abc8-426c-aaa9-212207b58843",
   "metadata": {},
   "outputs": [],
   "source": [
    "import time\n",
    "from selenium import webdriver\n",
    "from selenium.webdriver.common.keys import Keys\n",
    "from bs4 import BeautifulSoup\n",
    "import requests\n",
    "import pyautogui\n",
    "import pyperclip\n",
    "\n",
    "\n",
    "from selenium.webdriver.support.ui import WebDriverWait\n",
    "from selenium.webdriver.common.by import By\n",
    "from selenium.webdriver.support import expected_conditions as EC\n"
   ]
  },
  {
   "cell_type": "code",
   "execution_count": 15,
   "id": "4954b6d1-0be1-46f7-8b3c-c0fc0f353f70",
   "metadata": {},
   "outputs": [
    {
     "ename": "KeyboardInterrupt",
     "evalue": "",
     "output_type": "error",
     "traceback": [
      "\u001b[1;31m---------------------------------------------------------------------------\u001b[0m",
      "\u001b[1;31mKeyboardInterrupt\u001b[0m                         Traceback (most recent call last)",
      "Cell \u001b[1;32mIn[15], line 28\u001b[0m\n\u001b[0;32m     25\u001b[0m     \u001b[38;5;28;01mbreak\u001b[39;00m \n\u001b[0;32m     27\u001b[0m play_button \u001b[38;5;241m=\u001b[39m driver\u001b[38;5;241m.\u001b[39mfind_element(By\u001b[38;5;241m.\u001b[39mXPATH, \u001b[38;5;124m\"\u001b[39m\u001b[38;5;124m//div[@class=\u001b[39m\u001b[38;5;124m'\u001b[39m\u001b[38;5;124mplay-btn\u001b[39m\u001b[38;5;124m'\u001b[39m\u001b[38;5;124m]\u001b[39m\u001b[38;5;124m\"\u001b[39m)\u001b[38;5;241m.\u001b[39mclick()\n\u001b[1;32m---> 28\u001b[0m \u001b[43mtime\u001b[49m\u001b[38;5;241;43m.\u001b[39;49m\u001b[43msleep\u001b[49m\u001b[43m(\u001b[49m\u001b[38;5;241;43m8\u001b[39;49m\u001b[43m)\u001b[49m\n\u001b[0;32m     29\u001b[0m pyautogui\u001b[38;5;241m.\u001b[39mclick(x\u001b[38;5;241m=\u001b[39m\u001b[38;5;241m1022\u001b[39m, y\u001b[38;5;241m=\u001b[39m\u001b[38;5;241m400\u001b[39m)\n\u001b[0;32m     30\u001b[0m time\u001b[38;5;241m.\u001b[39msleep(\u001b[38;5;241m1\u001b[39m)  \n",
      "\u001b[1;31mKeyboardInterrupt\u001b[0m: "
     ]
    }
   ],
   "source": [
    "\n",
    "# Web sayfasının URL'si\n",
    "\n",
    "\n",
    "# WebDriver'ı başlat\n",
    "driver = webdriver.Chrome()\n",
    "driver.get(url)\n",
    "driver.maximize_window()\n",
    "page_source = driver.page_source\n",
    "\n",
    "# BeautifulSoup ile sayfa kaynağını ayrıştır\n",
    "soup = BeautifulSoup(page_source, 'html.parser')\n",
    "\n",
    "# Oynatıcı seçimini metin olarak al\n",
    "playerCheck = soup.select_one('body > div.container > div > div.app-wrapper > div.app-container.flex-fill > div > div > div.detail-header.d-flex.align-items-center > div.nav-player-select.dropdown').text\n",
    "\n",
    "if \"Sibnet\" in playerCheck:\n",
    "    #span_elements = driver.find_element(By.ID, \"videoSource\").click() \n",
    "\n",
    "\n",
    "    play_button = driver.find_element(By.XPATH, \"//div[@class='play-btn']\").click()\n",
    "    time.sleep(8)\n",
    "    pyautogui.click(x=1022, y=400)\n",
    "    time.sleep(1)  \n",
    "    # İkinci tıklama\n",
    "    pyautogui.click(x=1600, y=410 )\n",
    "    time.sleep(1) \n",
    "    pyautogui.click(x=1259, y=700 )\n",
    "    time.sleep(1) \n",
    "    pyautogui.click(x=1259, y=720 )\n",
    "    time.sleep(1)\n",
    "    # Butona basıldığında panoya kopyalanan veriyi al\n",
    "    sibnetUrl = pyperclip.paste()\n",
    "    print(sibnetUrl)\n",
    "    \n",
    "\n",
    "\n",
    "\n",
    "driver.quit()"
   ]
  },
  {
   "cell_type": "code",
   "execution_count": null,
   "id": "d558d72c-c754-4fed-be73-9a8c4a34f096",
   "metadata": {},
   "outputs": [],
   "source": [
    "if \"VK\" in playerCheck:\n",
    "    print(2)\n",
    "if \"Odnoklassniki\" in playerCheck:\n",
    "    print(3)\n",
    "if \"Ok.ru\" in playerCheck:\n",
    "    # 4. 'play-btn' class'ına sahip 'div'e tıkla\n",
    "    play_button = driver.find_element(By.XPATH, \"//div[@class='play-btn']\").click()\n",
    "    time.sleep(8)\n",
    "    pyautogui.click(x=1022, y=400)\n",
    "    time.sleep(1)  \n",
    "    # İkinci tıklama\n",
    "    pyautogui.click(x=1550, y=179 )\n",
    "    time.sleep(1) \n",
    "    pyautogui.click(x=1024, y=369 )\n",
    "    time.sleep(1) \n",
    "    pyautogui.click(x=1046, y=542 )\n",
    "    time.sleep(1)\n",
    "    # Butona basıldığında panoya kopyalanan veriyi al\n",
    "    OkRu = pyperclip.paste()\n",
    "    print(OkRu)"
   ]
  },
  {
   "cell_type": "code",
   "execution_count": 3,
   "id": "78d2e188-69d6-487f-98cf-73fd72252531",
   "metadata": {},
   "outputs": [
    {
     "name": "stdout",
     "output_type": "stream",
     "text": [
      "Veriler başarıyla kopyalandı.\n",
      "Veriler başarıyla kopyalandı.\n",
      "Veriler başarıyla kopyalandı.\n",
      "Veriler başarıyla kopyalandı.\n"
     ]
    },
    {
     "ename": "KeyboardInterrupt",
     "evalue": "",
     "output_type": "error",
     "traceback": [
      "\u001b[1;31m---------------------------------------------------------------------------\u001b[0m",
      "\u001b[1;31mKeyboardInterrupt\u001b[0m                         Traceback (most recent call last)",
      "Cell \u001b[1;32mIn[3], line 14\u001b[0m\n\u001b[0;32m     12\u001b[0m \u001b[38;5;66;03m# 4. 'play-btn' class'ına sahip 'div'e tıkla\u001b[39;00m\n\u001b[0;32m     13\u001b[0m play_button \u001b[38;5;241m=\u001b[39m driver\u001b[38;5;241m.\u001b[39mfind_element(By\u001b[38;5;241m.\u001b[39mXPATH, \u001b[38;5;124m\"\u001b[39m\u001b[38;5;124m//div[@class=\u001b[39m\u001b[38;5;124m'\u001b[39m\u001b[38;5;124mplay-btn\u001b[39m\u001b[38;5;124m'\u001b[39m\u001b[38;5;124m]\u001b[39m\u001b[38;5;124m\"\u001b[39m)\u001b[38;5;241m.\u001b[39mclick()\n\u001b[1;32m---> 14\u001b[0m \u001b[43mtime\u001b[49m\u001b[38;5;241;43m.\u001b[39;49m\u001b[43msleep\u001b[49m\u001b[43m(\u001b[49m\u001b[38;5;241;43m8\u001b[39;49m\u001b[43m)\u001b[49m\n\u001b[0;32m     15\u001b[0m pyautogui\u001b[38;5;241m.\u001b[39mclick(x\u001b[38;5;241m=\u001b[39m\u001b[38;5;241m1022\u001b[39m, y\u001b[38;5;241m=\u001b[39m\u001b[38;5;241m400\u001b[39m)\n\u001b[0;32m     16\u001b[0m time\u001b[38;5;241m.\u001b[39msleep(\u001b[38;5;241m1\u001b[39m)  \n",
      "\u001b[1;31mKeyboardInterrupt\u001b[0m: "
     ]
    }
   ],
   "source": [
    "with open(\"ReZero_kara_Hajimeru_Isekai_Seikatsu_.txt\", \"r\", encoding=\"utf-8\") as file:\n",
    "    url_list = file.readlines()\n",
    "\n",
    "driver = webdriver.Chrome()\n",
    "\n",
    "for url in url_list:\n",
    "    # URL'yi temizle\n",
    "    url = url.strip()\n",
    "    driver.get(url)\n",
    "    driver.maximize_window()\n",
    "    # 4. 'play-btn' class'ına sahip 'div'e tıkla\n",
    "    play_button = driver.find_element(By.XPATH, \"//div[@class='play-btn']\").click()\n",
    "    time.sleep(8)\n",
    "    pyautogui.click(x=1022, y=400)\n",
    "    time.sleep(1)  \n",
    "    # İkinci tıklama\n",
    "    pyautogui.click(x=1600, y=410 )\n",
    "    time.sleep(1) \n",
    "    pyautogui.click(x=1259, y=700 )\n",
    "    time.sleep(1) \n",
    "    pyautogui.click(x=1259, y=720 )\n",
    "    time.sleep(1)\n",
    "    # Butona basıldığında panoya kopyalanan veriyi al\n",
    "    sibnetUrl = pyperclip.paste()\n",
    "    \n",
    "    # 2. Kaynak kodunu al\n",
    "    time.sleep(1)  # Sayfanın yüklenmesini beklemek için biraz süre veriyoruz\n",
    "    page_source = driver.page_source\n",
    "    soup = BeautifulSoup(page_source, 'html.parser')\n",
    "    #time.sleep(1)\n",
    "    \n",
    "    episode_name=soup.select_one('body > div.container > div > div.app-wrapper > div.app-container.flex-fill > div > div > div.detail-content > div.detail-text.flex-fill > div.caption > div.caption-content > h2').text\n",
    "    anime_name=soup.select_one('body > div.container > div > div.app-wrapper > div.app-container.flex-fill > div > div > div.detail-content > div.detail-text.flex-fill > div.caption > div.caption-content > a > h1').text.replace(\":\",\"\").replace(\"\\n\",\"\").replace(\" \",\"_\")\n",
    "    anime_seasons_episodes = soup.select_one('body > div.container > div > div.app-wrapper > div.app-container.flex-fill > div > div > div.detail-content > div.detail-text.flex-fill > div.caption > div.caption-content').text\n",
    "    anime_seasons_episodes_array=anime_seasons_episodes.split()\n",
    "    sezon=anime_seasons_episodes_array[0].replace(\".\",\"\")\n",
    "    episode=anime_seasons_episodes_array[2].replace(\".\",\"\")\n",
    "\n",
    "    # Veriyi bir metin dosyasına yaz\n",
    "    with open(f\"{anime_name}details.txt\", \"a\", encoding=\"utf-8\") as file:\n",
    "        file.write(anime_name+\"\\t\"+episode_name+\"\\t\"+sezon+\"\\t\"+episode+\"\\t\"+url+\"\\n\")\n",
    "    \n",
    "    print(\"Veriler başarıyla kopyalandı.\")\n",
    "      \n",
    "# Tarayıcıyı kapat\n",
    "driver.quit()"
   ]
  },
  {
   "cell_type": "code",
   "execution_count": null,
   "id": "e60c7da8-24e2-45df-8774-adecfb3b5e95",
   "metadata": {},
   "outputs": [],
   "source": []
  },
  {
   "cell_type": "code",
   "execution_count": null,
   "id": "82204c46-94ed-479f-ba35-f7edb6ee9c3a",
   "metadata": {},
   "outputs": [],
   "source": []
  },
  {
   "cell_type": "code",
   "execution_count": null,
   "id": "a9066e45-41df-430a-a08e-163e76ab4983",
   "metadata": {},
   "outputs": [],
   "source": []
  }
 ],
 "metadata": {
  "kernelspec": {
   "display_name": "Python 3 (ipykernel)",
   "language": "python",
   "name": "python3"
  },
  "language_info": {
   "codemirror_mode": {
    "name": "ipython",
    "version": 3
   },
   "file_extension": ".py",
   "mimetype": "text/x-python",
   "name": "python",
   "nbconvert_exporter": "python",
   "pygments_lexer": "ipython3",
   "version": "3.12.0"
  }
 },
 "nbformat": 4,
 "nbformat_minor": 5
}
