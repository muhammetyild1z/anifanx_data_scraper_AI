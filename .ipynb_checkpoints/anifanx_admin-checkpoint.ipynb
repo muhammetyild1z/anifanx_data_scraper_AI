{
 "cells": [
  {
   "cell_type": "code",
   "execution_count": 8,
   "id": "68adf38d-15c5-47e6-97d9-4b35de8bbb91",
   "metadata": {},
   "outputs": [],
   "source": [
    "from selenium import webdriver\n",
    "from selenium.webdriver.common.by import By\n",
    "from selenium.webdriver.chrome.service import Service\n",
    "from selenium.common.exceptions import NoSuchElementException\n",
    "import time\n",
    "from bs4 import BeautifulSoup\n",
    "from selenium.webdriver.common.keys import Keys"
   ]
  },
  {
   "cell_type": "code",
   "execution_count": 18,
   "id": "a22e4068-e785-48db-a2a4-f7aafbbf5bf8",
   "metadata": {},
   "outputs": [
    {
     "name": "stdout",
     "output_type": "stream",
     "text": [
      "Dekisokonai to Yobareta Motoeiyuu wa Jikka kara Tsuihou sareta node Sukikatte ni Ikiru Koto ni Shita \tI Reincarnated as the Seventh Prince\t1\t1\thttps://video.sibnet.ru/shell.php?videoid=5491324\t\t\thttps://vk.com/video_ext.php?oid=765698781&id=456239078&hash=a6fbbb2a1718e6ce\n",
      "\n",
      "['Dekisokonai to Yobareta Motoeiyuu wa Jikka kara Tsuihou sareta node Sukikatte ni Ikiru Koto ni Shita ', 'I Reincarnated as the Seventh Prince', '1', '1', 'https://video.sibnet.ru/shell.php?videoid=5491324', '', '', 'https://vk.com/video_ext.php?oid=765698781&id=456239078&hash=a6fbbb2a1718e6ce\\n']\n"
     ]
    },
    {
     "ename": "NoSuchElementException",
     "evalue": "Message: no such element: Unable to locate element: {\"method\":\"css selector\",\"selector\":\".btn-warning\"}\n  (Session info: chrome=124.0.6367.60); For documentation on this error, please visit: https://www.selenium.dev/documentation/webdriver/troubleshooting/errors#no-such-element-exception\nStacktrace:\n\tGetHandleVerifier [0x00007FF60E29F922+3045234]\n\t(No symbol) [0x00007FF60DF43652]\n\t(No symbol) [0x00007FF60DE07564]\n\t(No symbol) [0x00007FF60DE55F9D]\n\t(No symbol) [0x00007FF60DE5606C]\n\t(No symbol) [0x00007FF60DE9BDD7]\n\t(No symbol) [0x00007FF60DE79DEF]\n\t(No symbol) [0x00007FF60DE991C4]\n\t(No symbol) [0x00007FF60DE79B53]\n\t(No symbol) [0x00007FF60DE4813C]\n\t(No symbol) [0x00007FF60DE48D71]\n\tGetHandleVerifier [0x00007FF60E2CE89D+3237613]\n\tGetHandleVerifier [0x00007FF60E310BA7+3508727]\n\tGetHandleVerifier [0x00007FF60E30976F+3478975]\n\tGetHandleVerifier [0x00007FF60E07F1C6+815126]\n\t(No symbol) [0x00007FF60DF4ED0F]\n\t(No symbol) [0x00007FF60DF49854]\n\t(No symbol) [0x00007FF60DF499E2]\n\t(No symbol) [0x00007FF60DF3A574]\n\tBaseThreadInitThunk [0x00007FFCA41A7344+20]\n\tRtlUserThreadStart [0x00007FFCA51226B1+33]\n",
     "output_type": "error",
     "traceback": [
      "\u001b[1;31m---------------------------------------------------------------------------\u001b[0m",
      "\u001b[1;31mNoSuchElementException\u001b[0m                    Traceback (most recent call last)",
      "Cell \u001b[1;32mIn[18], line 32\u001b[0m\n\u001b[0;32m     30\u001b[0m search_input\u001b[38;5;241m.\u001b[39msend_keys(Keys\u001b[38;5;241m.\u001b[39mRETURN)  \n\u001b[0;32m     31\u001b[0m time\u001b[38;5;241m.\u001b[39msleep(\u001b[38;5;241m1\u001b[39m)\n\u001b[1;32m---> 32\u001b[0m episode_add\u001b[38;5;241m=\u001b[39m\u001b[43mdriver\u001b[49m\u001b[38;5;241;43m.\u001b[39;49m\u001b[43mfind_element\u001b[49m\u001b[43m(\u001b[49m\u001b[43mBy\u001b[49m\u001b[38;5;241;43m.\u001b[39;49m\u001b[43mCLASS_NAME\u001b[49m\u001b[43m,\u001b[49m\u001b[38;5;124;43m\"\u001b[39;49m\u001b[38;5;124;43mbtn-warning\u001b[39;49m\u001b[38;5;124;43m\"\u001b[39;49m\u001b[43m)\u001b[49m       \n\u001b[0;32m     33\u001b[0m episode_add\u001b[38;5;241m.\u001b[39mclick()\n\u001b[0;32m     35\u001b[0m seson_input\u001b[38;5;241m=\u001b[39mdriver\u001b[38;5;241m.\u001b[39mfind_element(By\u001b[38;5;241m.\u001b[39mCLASS_NAME,\u001b[38;5;124m\"\u001b[39m\u001b[38;5;124mseson\u001b[39m\u001b[38;5;124m\"\u001b[39m)\n",
      "File \u001b[1;32m~\\AppData\\Local\\Programs\\Python\\Python312\\Lib\\site-packages\\selenium\\webdriver\\remote\\webdriver.py:741\u001b[0m, in \u001b[0;36mWebDriver.find_element\u001b[1;34m(self, by, value)\u001b[0m\n\u001b[0;32m    738\u001b[0m     by \u001b[38;5;241m=\u001b[39m By\u001b[38;5;241m.\u001b[39mCSS_SELECTOR\n\u001b[0;32m    739\u001b[0m     value \u001b[38;5;241m=\u001b[39m \u001b[38;5;124mf\u001b[39m\u001b[38;5;124m'\u001b[39m\u001b[38;5;124m[name=\u001b[39m\u001b[38;5;124m\"\u001b[39m\u001b[38;5;132;01m{\u001b[39;00mvalue\u001b[38;5;132;01m}\u001b[39;00m\u001b[38;5;124m\"\u001b[39m\u001b[38;5;124m]\u001b[39m\u001b[38;5;124m'\u001b[39m\n\u001b[1;32m--> 741\u001b[0m \u001b[38;5;28;01mreturn\u001b[39;00m \u001b[38;5;28;43mself\u001b[39;49m\u001b[38;5;241;43m.\u001b[39;49m\u001b[43mexecute\u001b[49m\u001b[43m(\u001b[49m\u001b[43mCommand\u001b[49m\u001b[38;5;241;43m.\u001b[39;49m\u001b[43mFIND_ELEMENT\u001b[49m\u001b[43m,\u001b[49m\u001b[43m \u001b[49m\u001b[43m{\u001b[49m\u001b[38;5;124;43m\"\u001b[39;49m\u001b[38;5;124;43musing\u001b[39;49m\u001b[38;5;124;43m\"\u001b[39;49m\u001b[43m:\u001b[49m\u001b[43m \u001b[49m\u001b[43mby\u001b[49m\u001b[43m,\u001b[49m\u001b[43m \u001b[49m\u001b[38;5;124;43m\"\u001b[39;49m\u001b[38;5;124;43mvalue\u001b[39;49m\u001b[38;5;124;43m\"\u001b[39;49m\u001b[43m:\u001b[49m\u001b[43m \u001b[49m\u001b[43mvalue\u001b[49m\u001b[43m}\u001b[49m\u001b[43m)\u001b[49m[\u001b[38;5;124m\"\u001b[39m\u001b[38;5;124mvalue\u001b[39m\u001b[38;5;124m\"\u001b[39m]\n",
      "File \u001b[1;32m~\\AppData\\Local\\Programs\\Python\\Python312\\Lib\\site-packages\\selenium\\webdriver\\remote\\webdriver.py:347\u001b[0m, in \u001b[0;36mWebDriver.execute\u001b[1;34m(self, driver_command, params)\u001b[0m\n\u001b[0;32m    345\u001b[0m response \u001b[38;5;241m=\u001b[39m \u001b[38;5;28mself\u001b[39m\u001b[38;5;241m.\u001b[39mcommand_executor\u001b[38;5;241m.\u001b[39mexecute(driver_command, params)\n\u001b[0;32m    346\u001b[0m \u001b[38;5;28;01mif\u001b[39;00m response:\n\u001b[1;32m--> 347\u001b[0m     \u001b[38;5;28;43mself\u001b[39;49m\u001b[38;5;241;43m.\u001b[39;49m\u001b[43merror_handler\u001b[49m\u001b[38;5;241;43m.\u001b[39;49m\u001b[43mcheck_response\u001b[49m\u001b[43m(\u001b[49m\u001b[43mresponse\u001b[49m\u001b[43m)\u001b[49m\n\u001b[0;32m    348\u001b[0m     response[\u001b[38;5;124m\"\u001b[39m\u001b[38;5;124mvalue\u001b[39m\u001b[38;5;124m\"\u001b[39m] \u001b[38;5;241m=\u001b[39m \u001b[38;5;28mself\u001b[39m\u001b[38;5;241m.\u001b[39m_unwrap_value(response\u001b[38;5;241m.\u001b[39mget(\u001b[38;5;124m\"\u001b[39m\u001b[38;5;124mvalue\u001b[39m\u001b[38;5;124m\"\u001b[39m, \u001b[38;5;28;01mNone\u001b[39;00m))\n\u001b[0;32m    349\u001b[0m     \u001b[38;5;28;01mreturn\u001b[39;00m response\n",
      "File \u001b[1;32m~\\AppData\\Local\\Programs\\Python\\Python312\\Lib\\site-packages\\selenium\\webdriver\\remote\\errorhandler.py:229\u001b[0m, in \u001b[0;36mErrorHandler.check_response\u001b[1;34m(self, response)\u001b[0m\n\u001b[0;32m    227\u001b[0m         alert_text \u001b[38;5;241m=\u001b[39m value[\u001b[38;5;124m\"\u001b[39m\u001b[38;5;124malert\u001b[39m\u001b[38;5;124m\"\u001b[39m]\u001b[38;5;241m.\u001b[39mget(\u001b[38;5;124m\"\u001b[39m\u001b[38;5;124mtext\u001b[39m\u001b[38;5;124m\"\u001b[39m)\n\u001b[0;32m    228\u001b[0m     \u001b[38;5;28;01mraise\u001b[39;00m exception_class(message, screen, stacktrace, alert_text)  \u001b[38;5;66;03m# type: ignore[call-arg]  # mypy is not smart enough here\u001b[39;00m\n\u001b[1;32m--> 229\u001b[0m \u001b[38;5;28;01mraise\u001b[39;00m exception_class(message, screen, stacktrace)\n",
      "\u001b[1;31mNoSuchElementException\u001b[0m: Message: no such element: Unable to locate element: {\"method\":\"css selector\",\"selector\":\".btn-warning\"}\n  (Session info: chrome=124.0.6367.60); For documentation on this error, please visit: https://www.selenium.dev/documentation/webdriver/troubleshooting/errors#no-such-element-exception\nStacktrace:\n\tGetHandleVerifier [0x00007FF60E29F922+3045234]\n\t(No symbol) [0x00007FF60DF43652]\n\t(No symbol) [0x00007FF60DE07564]\n\t(No symbol) [0x00007FF60DE55F9D]\n\t(No symbol) [0x00007FF60DE5606C]\n\t(No symbol) [0x00007FF60DE9BDD7]\n\t(No symbol) [0x00007FF60DE79DEF]\n\t(No symbol) [0x00007FF60DE991C4]\n\t(No symbol) [0x00007FF60DE79B53]\n\t(No symbol) [0x00007FF60DE4813C]\n\t(No symbol) [0x00007FF60DE48D71]\n\tGetHandleVerifier [0x00007FF60E2CE89D+3237613]\n\tGetHandleVerifier [0x00007FF60E310BA7+3508727]\n\tGetHandleVerifier [0x00007FF60E30976F+3478975]\n\tGetHandleVerifier [0x00007FF60E07F1C6+815126]\n\t(No symbol) [0x00007FF60DF4ED0F]\n\t(No symbol) [0x00007FF60DF49854]\n\t(No symbol) [0x00007FF60DF499E2]\n\t(No symbol) [0x00007FF60DF3A574]\n\tBaseThreadInitThunk [0x00007FFCA41A7344+20]\n\tRtlUserThreadStart [0x00007FFCA51226B1+33]\n"
     ]
    }
   ],
   "source": [
    "url='https://anifanx.com.tr/AdminAnimes/Animelers'\n",
    "driver = webdriver.Chrome()  \n",
    "driver.get(url)\n",
    "driver.maximize_window()  \n",
    "page_source=driver.page_source\n",
    "soup=BeautifulSoup(page_source, 'html.parser')\n",
    "\n",
    "\n",
    "username_input = driver.find_element(By.ID, \"UserName\")   \n",
    "password_input = driver.find_element(By.ID, \"Password\")\n",
    "login_btn=driver.find_element(By.CLASS_NAME,\"site-btn\")\n",
    "if username_input:\n",
    "    username_input.clear()  \n",
    "    password_input.clear()\n",
    "    username_input.send_keys(\"forzl\")\n",
    "    password_input.send_keys(\"1111111\")\n",
    "    login_btn.click()\n",
    "    time.sleep(2)\n",
    "else:\n",
    "    print(\"UserName input elementi bulunamadı.\")\n",
    "\n",
    "with open(\"Dekisokonai_to_Yobareta_Motoeiyuu_wa_Jikka_kara_Tsuihou_sareta_node_Sukikatte_ni_Ikiru_Koto_ni_Shita_details.txt\", \"r\", encoding=\"utf-8\") as file:\n",
    "    for added in file:       \n",
    "        dizi=added.strip().split(\"\\t\")       \n",
    "        search_input = driver.find_element(By.CLASS_NAME, \"search-input\")\n",
    "        search_input.click()\n",
    "        search_input.send_keys(dizi[0])\n",
    "        search_input.send_keys(Keys.RETURN)  \n",
    "        time.sleep(1)\n",
    "        episode_add=driver.find_element(By.CLASS_NAME,\"btn-warning\")       \n",
    "        episode_add.click()\n",
    "        \n",
    "        seson_input=driver.find_element(By.CLASS_NAME,\"seson\")\n",
    "        seson_input.clear()\n",
    "        seson_input.send_keys(dizi[2])\n",
    "        \n",
    "        episode_input=driver.find_element(By.CLASS_NAME,\"episode\")\n",
    "        episode_input.clear()\n",
    "        episode_input.send_keys(dizi[3])\n",
    "        \n",
    "        episode_title_input=driver.find_element(By.CLASS_NAME,\"episodeTitle\")\n",
    "        episode_title_input.clear()\n",
    "        episode_title_input.send_keys(dizi[1])\n",
    "        \n",
    "        sibnet_url_input=driver.find_element(By.CLASS_NAME,\"sibnetUrl\")\n",
    "        sibnet_url_input.clear()\n",
    "        sibnet_url_input.send_keys(dizi[4])\n",
    "\n",
    "        odnoklassniki_url_input=driver.find_element(By.CLASS_NAME,\"odnoklassniki\")\n",
    "        odnoklassniki_url_input.clear()\n",
    "        odnoklassniki_url_input.send_keys(dizi[6])\n",
    "\n",
    "        okUrl_url_input=driver.find_element(By.CLASS_NAME,\"okUrl\")\n",
    "        okUrl_url_input.clear()\n",
    "        okUrl_url_input.send_keys(dizi[5])\n",
    "\n",
    "        vkUrl_input=driver.find_element(By.CLASS_NAME,\"vkUrl\")\n",
    "        vkUrl_input.clear()\n",
    "        vkUrl_input.send_keys(dizi[7])"
   ]
  },
  {
   "cell_type": "code",
   "execution_count": null,
   "id": "228aa359-9f93-4de3-b5a1-bfc3307c3df2",
   "metadata": {},
   "outputs": [],
   "source": []
  },
  {
   "cell_type": "code",
   "execution_count": null,
   "id": "12be0e45-0df5-42cd-9ee5-bc424ed9e20d",
   "metadata": {},
   "outputs": [],
   "source": []
  },
  {
   "cell_type": "code",
   "execution_count": null,
   "id": "95586963-e12d-4713-8e9a-5cc15ec2c087",
   "metadata": {},
   "outputs": [],
   "source": []
  },
  {
   "cell_type": "code",
   "execution_count": null,
   "id": "18d93e17-a7ce-4b82-9aa0-40645b49daae",
   "metadata": {},
   "outputs": [],
   "source": []
  }
 ],
 "metadata": {
  "kernelspec": {
   "display_name": "Python 3 (ipykernel)",
   "language": "python",
   "name": "python3"
  },
  "language_info": {
   "codemirror_mode": {
    "name": "ipython",
    "version": 3
   },
   "file_extension": ".py",
   "mimetype": "text/x-python",
   "name": "python",
   "nbconvert_exporter": "python",
   "pygments_lexer": "ipython3",
   "version": "3.12.0"
  }
 },
 "nbformat": 4,
 "nbformat_minor": 5
}
